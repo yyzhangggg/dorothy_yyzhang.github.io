{
 "cells": [
  {
   "cell_type": "code",
   "execution_count": 61,
   "metadata": {},
   "outputs": [],
   "source": [
    "import pandas as pd\n",
    "import numpy as np\n",
    "# run the code in the same folder as the preprocessed test & training data\n",
    "train_data_withid = pd.read_csv(r\"70000data_with_na_no_str.csv\")\n",
    "train_data = train_data_withid.drop(columns=['unique_id'],inplace=False)\n",
    "\n",
    "# split the responses vector from training data\n",
    "label_values = train_data[\"nEvent\"]\n",
    "train_data.drop(columns=[\"nEvent\"],inplace=True)\n",
    "\n",
    "# get all column names\n",
    "col_names = train_data.columns\n",
    "\n",
    "test_data_withid = pd.read_csv(r\"test_data_with_na_no_str.csv\")\n",
    "\n",
    "# drop the column with lowest correlation with nEvent\n",
    "test_data_withid.drop(columns=[\"eatSpicy\"],inplace=True)\n",
    "test_data = test_data_withid.drop(columns=['unique_id'],inplace=False)\n"
   ]
  },
  {
   "cell_type": "code",
   "execution_count": 9,
   "metadata": {},
   "outputs": [],
   "source": [
    "# knn imputation transform for both trainig and test dataset. It is used to automatically fill the NaN values existing\n",
    "from sklearn.impute import KNNImputer\n",
    "\n",
    "# define imputer\n",
    "imputer = KNNImputer(n_neighbors=10, weights='uniform', metric='nan_euclidean')\n",
    "# fit on the training dataset\n",
    "imputer.fit(train_data)\n",
    "# transform the training dataset\n",
    "train_trans = imputer.transform(train_data)"
   ]
  },
  {
   "cell_type": "code",
   "execution_count": 39,
   "metadata": {},
   "outputs": [],
   "source": [
    "# define imputer\n",
    "imputer = KNNImputer(n_neighbors=10, weights='uniform', metric='nan_euclidean')\n",
    "# fit on the testing dataset\n",
    "imputer.fit(test_data)\n",
    "\n",
    "# fit on the testing dataset\n",
    "test_trans = imputer.transform(test_data)"
   ]
  },
  {
   "cell_type": "code",
   "execution_count": 43,
   "metadata": {},
   "outputs": [],
   "source": [
    "# import logistic linear regresion model from sklearn\n",
    "from sklearn.linear_model import LogisticRegression\n",
    "model = LogisticRegression(random_state=0,solver='liblinear',max_iter=200).fit(train_trans,label_values)\n"
   ]
  },
  {
   "cell_type": "code",
   "execution_count": 48,
   "metadata": {},
   "outputs": [
    {
     "data": {
      "text/plain": [
       "array([[0.99584487, 0.00415513],\n",
       "       [0.96360964, 0.03639036],\n",
       "       [0.97716647, 0.02283353],\n",
       "       ...,\n",
       "       [0.98313388, 0.01686612],\n",
       "       [0.98946384, 0.01053616],\n",
       "       [0.99090039, 0.00909961]])"
      ]
     },
     "execution_count": 48,
     "metadata": {},
     "output_type": "execute_result"
    }
   ],
   "source": [
    "# make probablity prediction, the first column is the probability of not having a claim, the second column is the probablity of having a claim\n",
    "prob_pred = model.predict_proba(test_trans)\n",
    "prob_pred"
   ]
  },
  {
   "cell_type": "code",
   "execution_count": 66,
   "metadata": {},
   "outputs": [],
   "source": [
    "pred_vector = prob_pred[:,1:]"
   ]
  },
  {
   "cell_type": "code",
   "execution_count": 50,
   "metadata": {},
   "outputs": [],
   "source": [
    "# matching unique id with the probability of having a claim\n",
    "unique_id = test_data_withid[\"unique_id\"].to_numpy()\n",
    "\n",
    "unique_id = unique_id[:,None]\n",
    "result = np.concatenate((unique_id,pred_vector),axis=1)"
   ]
  },
  {
   "cell_type": "code",
   "execution_count": 52,
   "metadata": {},
   "outputs": [],
   "source": [
    "# change the np array back to dataframe\n",
    "result_df = pd.DataFrame(result,columns=[\"unique_id\",\"prob\"])"
   ]
  },
  {
   "cell_type": "code",
   "execution_count": 53,
   "metadata": {},
   "outputs": [
    {
     "data": {
      "text/html": [
       "<div>\n",
       "<style scoped>\n",
       "    .dataframe tbody tr th:only-of-type {\n",
       "        vertical-align: middle;\n",
       "    }\n",
       "\n",
       "    .dataframe tbody tr th {\n",
       "        vertical-align: top;\n",
       "    }\n",
       "\n",
       "    .dataframe thead th {\n",
       "        text-align: right;\n",
       "    }\n",
       "</style>\n",
       "<table border=\"1\" class=\"dataframe\">\n",
       "  <thead>\n",
       "    <tr style=\"text-align: right;\">\n",
       "      <th></th>\n",
       "      <th>unique_id</th>\n",
       "      <th>prob</th>\n",
       "    </tr>\n",
       "  </thead>\n",
       "  <tbody>\n",
       "    <tr>\n",
       "      <th>0</th>\n",
       "      <td>14800.0</td>\n",
       "      <td>0.004155</td>\n",
       "    </tr>\n",
       "    <tr>\n",
       "      <th>1</th>\n",
       "      <td>278323.0</td>\n",
       "      <td>0.036390</td>\n",
       "    </tr>\n",
       "    <tr>\n",
       "      <th>2</th>\n",
       "      <td>250032.0</td>\n",
       "      <td>0.022834</td>\n",
       "    </tr>\n",
       "    <tr>\n",
       "      <th>3</th>\n",
       "      <td>64646.0</td>\n",
       "      <td>0.019106</td>\n",
       "    </tr>\n",
       "    <tr>\n",
       "      <th>4</th>\n",
       "      <td>106064.0</td>\n",
       "      <td>0.053520</td>\n",
       "    </tr>\n",
       "    <tr>\n",
       "      <th>...</th>\n",
       "      <td>...</td>\n",
       "      <td>...</td>\n",
       "    </tr>\n",
       "    <tr>\n",
       "      <th>29995</th>\n",
       "      <td>62939.0</td>\n",
       "      <td>0.053384</td>\n",
       "    </tr>\n",
       "    <tr>\n",
       "      <th>29996</th>\n",
       "      <td>357914.0</td>\n",
       "      <td>0.013951</td>\n",
       "    </tr>\n",
       "    <tr>\n",
       "      <th>29997</th>\n",
       "      <td>381410.0</td>\n",
       "      <td>0.016866</td>\n",
       "    </tr>\n",
       "    <tr>\n",
       "      <th>29998</th>\n",
       "      <td>346498.0</td>\n",
       "      <td>0.010536</td>\n",
       "    </tr>\n",
       "    <tr>\n",
       "      <th>29999</th>\n",
       "      <td>36545.0</td>\n",
       "      <td>0.009100</td>\n",
       "    </tr>\n",
       "  </tbody>\n",
       "</table>\n",
       "<p>30000 rows × 2 columns</p>\n",
       "</div>"
      ],
      "text/plain": [
       "       unique_id      prob\n",
       "0        14800.0  0.004155\n",
       "1       278323.0  0.036390\n",
       "2       250032.0  0.022834\n",
       "3        64646.0  0.019106\n",
       "4       106064.0  0.053520\n",
       "...          ...       ...\n",
       "29995    62939.0  0.053384\n",
       "29996   357914.0  0.013951\n",
       "29997   381410.0  0.016866\n",
       "29998   346498.0  0.010536\n",
       "29999    36545.0  0.009100\n",
       "\n",
       "[30000 rows x 2 columns]"
      ]
     },
     "execution_count": 53,
     "metadata": {},
     "output_type": "execute_result"
    }
   ],
   "source": [
    "result_df"
   ]
  },
  {
   "cell_type": "code",
   "execution_count": 54,
   "metadata": {},
   "outputs": [],
   "source": [
    "# output the result csv file\n",
    "compression_opts = dict(method='zip',\n",
    "                        archive_name='out.csv')  \n",
    "result_df.to_csv('out.zip', index=False,\n",
    "          compression=compression_opts) "
   ]
  }
 ],
 "metadata": {
  "interpreter": {
   "hash": "81794d4967e6c3204c66dcd87b604927b115b27c00565d3d43f05ba2f3a2cb0d"
  },
  "kernelspec": {
   "display_name": "Python 3.9.1 64-bit",
   "language": "python",
   "name": "python3"
  },
  "language_info": {
   "codemirror_mode": {
    "name": "ipython",
    "version": 3
   },
   "file_extension": ".py",
   "mimetype": "text/x-python",
   "name": "python",
   "nbconvert_exporter": "python",
   "pygments_lexer": "ipython3",
   "version": "3.9.1"
  },
  "orig_nbformat": 4
 },
 "nbformat": 4,
 "nbformat_minor": 2
}
